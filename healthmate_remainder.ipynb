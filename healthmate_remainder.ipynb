{
 "cells": [
  {
   "cell_type": "markdown",
   "id": "87d52369",
   "metadata": {},
   "source": [
    "# The healthmate Reminder and Inquiry System "
   ]
  },
  {
   "cell_type": "code",
   "execution_count": null,
   "id": "244d3f05",
   "metadata": {},
   "outputs": [],
   "source": [
    "# import necessary libraries \n",
    "\n",
    "import pandas as pd \n",
    "import matplotlib.pyplot as plt \n",
    "import seaborn as sns \n",
    "from datetime import timedelta"
   ]
  },
  {
   "cell_type": "code",
   "execution_count": null,
   "id": "34ab849f",
   "metadata": {},
   "outputs": [],
   "source": [
    "# loading the dataset \n",
    "df = pd.read_csv(\"healthdata .csv\")"
   ]
  },
  {
   "cell_type": "code",
   "execution_count": null,
   "id": "d686f03c",
   "metadata": {},
   "outputs": [],
   "source": [
    "df.head()"
   ]
  },
  {
   "cell_type": "code",
   "execution_count": null,
   "id": "2d7a2cd7",
   "metadata": {},
   "outputs": [],
   "source": [
    "df.info()"
   ]
  },
  {
   "cell_type": "code",
   "execution_count": null,
   "id": "c9b1ccd1",
   "metadata": {},
   "outputs": [],
   "source": [
    "df.shape"
   ]
  },
  {
   "cell_type": "code",
   "execution_count": null,
   "id": "7cd8a84c",
   "metadata": {},
   "outputs": [],
   "source": [
    "# summary statistics\n",
    "df.describe()"
   ]
  },
  {
   "cell_type": "code",
   "execution_count": null,
   "id": "b3de6d21",
   "metadata": {},
   "outputs": [],
   "source": [
    "mistake=df.query(\"Age==\"\"-1\")"
   ]
  },
  {
   "cell_type": "code",
   "execution_count": null,
   "id": "5629e96f",
   "metadata": {},
   "outputs": [],
   "source": [
    "mistake"
   ]
  },
  {
   "cell_type": "code",
   "execution_count": null,
   "id": "d75c063e",
   "metadata": {},
   "outputs": [],
   "source": [
    "df.drop(index=99832,inplace=True)"
   ]
  },
  {
   "cell_type": "code",
   "execution_count": null,
   "id": "cc79fc4a",
   "metadata": {},
   "outputs": [],
   "source": [
    "df.describe()"
   ]
  },
  {
   "cell_type": "code",
   "execution_count": null,
   "id": "d0e97254",
   "metadata": {},
   "outputs": [],
   "source": [
    "# data cleaning or check for missing values \n",
    "df.isnull().sum()"
   ]
  },
  {
   "cell_type": "code",
   "execution_count": null,
   "id": "99d0bde6",
   "metadata": {},
   "outputs": [],
   "source": [
    "df.rename(columns = {\"Hipertension\" : \"Hypertension\" },inplace = True)\n",
    "df.rename(columns = {\"No-show\" : \"No_show\"},inplace = True)\n",
    "df.head()"
   ]
  },
  {
   "cell_type": "code",
   "execution_count": null,
   "id": "fbc3755c",
   "metadata": {},
   "outputs": [],
   "source": [
    "df[\"Scholarship\"].value_counts()"
   ]
  },
  {
   "cell_type": "markdown",
   "id": "7ff1bea2",
   "metadata": {},
   "source": [
    "## data visualization  "
   ]
  },
  {
   "cell_type": "code",
   "execution_count": null,
   "id": "0d60aa42",
   "metadata": {},
   "outputs": [],
   "source": [
    "plt.figure(figsize=(14,6))\n",
    "corr_matrix = df.corr()\n",
    "sns.heatmap(corr_matrix, annot=True, cmap=\"coolwarm\")\n",
    "plt.title(\"Correlation heatmap \")\n"
   ]
  },
  {
   "cell_type": "code",
   "execution_count": null,
   "id": "8ce08b60",
   "metadata": {},
   "outputs": [],
   "source": [
    "plt.figure(figsize=(6, 4))\n",
    "sns.countplot(data=df, x='Gender')"
   ]
  },
  {
   "cell_type": "code",
   "execution_count": null,
   "id": "5396c2cd",
   "metadata": {
    "scrolled": true
   },
   "outputs": [],
   "source": [
    "plt.figure(figsize=(10,6))\n",
    "sns.histplot( data =df , x='Age',bins = 20)\n",
    "plt.title(\"patient age distribution\")"
   ]
  },
  {
   "cell_type": "code",
   "execution_count": null,
   "id": "023b78f4",
   "metadata": {},
   "outputs": [],
   "source": [
    "plt.figure(figsize=(8, 6))\n",
    "sns.countplot(data=df, x='No_show')\n",
    "plt.title(\"Appointment\")"
   ]
  },
  {
   "cell_type": "code",
   "execution_count": null,
   "id": "31a3940b",
   "metadata": {},
   "outputs": [],
   "source": [
    "show=df[\"No_show\"]==\"No\"\n",
    "noshow=df[\"No_show\"]==\"Yes\"\n"
   ]
  },
  {
   "cell_type": "code",
   "execution_count": null,
   "id": "d414d79e",
   "metadata": {},
   "outputs": [],
   "source": [
    "df[show].count()"
   ]
  },
  {
   "cell_type": "code",
   "execution_count": null,
   "id": "92e94886",
   "metadata": {},
   "outputs": [],
   "source": [
    "df[noshow].count()"
   ]
  },
  {
   "cell_type": "code",
   "execution_count": null,
   "id": "0b7ec445",
   "metadata": {},
   "outputs": [],
   "source": [
    "def attendance(df,col_name,attended,absent):\n",
    "    plt.figure(figsize=[20,8])\n",
    "    df[col_name][show].hist(alpha=0.5,bins=10,color=\"blue\",label=\"show\")\n",
    "    df[col_name][noshow].hist(alpha=0.5,bins=10,color=\"red\",label=\"noshow\")\n",
    "    plt.legend();\n",
    "    plt.title(\"comparison acc. to Age\")\n",
    "    plt.xlabel(\"Age\")\n",
    "    plt.ylabel(\"pattents number\")\n",
    "attendance(df,\"Age\",show,noshow)"
   ]
  },
  {
   "cell_type": "code",
   "execution_count": null,
   "id": "7e5a9d82",
   "metadata": {},
   "outputs": [],
   "source": [
    "def attendance(df,col_name,attended,absent):\n",
    "    plt.figure(figsize=[16,5])\n",
    "    df[col_name][show].value_counts(normalize=True).plot(kind=\"pie\",label=\"show\")\n",
    "    plt.legend();\n",
    "    plt.title(\"comparison bettween attendance by gender\")\n",
    "\n",
    "attendance(df,\"Gender\",show,noshow)"
   ]
  },
  {
   "cell_type": "code",
   "execution_count": null,
   "id": "5f386e53",
   "metadata": {},
   "outputs": [],
   "source": [
    "def attendance(df,col_name,attended,absent):\n",
    "    plt.figure(figsize=[16,5])\n",
    "    df[col_name][noshow].value_counts(normalize=True).plot(kind=\"pie\",label=\"noshow\")\n",
    "    plt.legend();\n",
    "    plt.title(\"comparison bettween attendance by gender\")\n",
    "attendance(df,\"Gender\",show,noshow)"
   ]
  },
  {
   "cell_type": "code",
   "execution_count": null,
   "id": "efd8d0c9",
   "metadata": {},
   "outputs": [],
   "source": [
    "plt.figure(figsize=[16,5])\n",
    "df[show].groupby(\"Gender\").Age.mean().plot(kind=\"bar\",color=\"red\",label=\"show\")\n",
    "df[noshow].groupby(\"Gender\").Age.mean().plot(kind=\"bar\",color=\"blue\",label=\"noshow\")\n",
    "plt.legend();\n",
    "plt.title(\"comparison acc to age ,chronic diseases\")\n",
    "plt.xlabel(\"Gender\")\n",
    "plt.ylabel(\"Mean age\");"
   ]
  },
  {
   "cell_type": "code",
   "execution_count": null,
   "id": "1b0b7e7e",
   "metadata": {},
   "outputs": [],
   "source": [
    "plt.figure(figsize=[16,5])\n",
    "df.Neighbourhood[show].value_counts().plot(kind=\"bar\",color=\"blue\",label=\"show\")\n",
    "df.Neighbourhood[noshow].value_counts().plot(kind=\"bar\",color=\"red\",label=\"noshow\")\n",
    "plt.legend();\n",
    "plt.title(\"comparison acc. to Neighbourhood\")\n",
    "plt.xlabel(\"Neighbourhood\")\n",
    "plt.ylabel(\"pattents number\");\n"
   ]
  },
  {
   "cell_type": "code",
   "execution_count": null,
   "id": "67578111",
   "metadata": {},
   "outputs": [],
   "source": [
    "# Day of the Week Analysis\n",
    "df['AppointmentDay'] = pd.to_datetime(df['AppointmentDay'])\n",
    "df['DayOfWeek'] = df['AppointmentDay'].dt.day_name()\n",
    "\n",
    "plt.figure(figsize=(10, 6))\n",
    "sns.countplot(data=df, x='DayOfWeek', hue='No_show')\n",
    "plt.title(\"Appointment No-shows by Day of the Week\")\n",
    "plt.xticks(rotation=45)\n",
    "plt.show()\n"
   ]
  },
  {
   "cell_type": "code",
   "execution_count": null,
   "id": "c87f4fbd",
   "metadata": {},
   "outputs": [],
   "source": [
    "plt.figure(figsize=(6, 4))\n",
    "sns.countplot(data=df, x='SMS_received', hue='No_show')\n",
    "plt.title(\"Effect of SMS Reminder on No-shows\")\n",
    "plt.show()"
   ]
  },
  {
   "cell_type": "markdown",
   "id": "4056dd38",
   "metadata": {},
   "source": [
    "# Implementing virtual health assistant features"
   ]
  },
  {
   "cell_type": "markdown",
   "id": "df3ac8cc",
   "metadata": {},
   "source": [
    "## Personalized Reminders"
   ]
  },
  {
   "cell_type": "code",
   "execution_count": null,
   "id": "5c4ab18a",
   "metadata": {},
   "outputs": [],
   "source": [
    "# Personalized Reminders\n",
    "\n",
    "def send_reminder(appointment_date):\n",
    "    reminder_date = appointment_date - timedelta(days=1)  # Sending reminder 1 day before the appointment\n",
    "    return reminder_date\n",
    "\n",
    "df['ReminderDate'] = df['AppointmentDay'].apply(send_reminder)\n",
    "\n",
    "# Health Tips based on Age Group and Medical Conditions\n",
    "def provide_health_tips(row):\n",
    "    tips = []\n",
    "    \n",
    "    if row['Age'] == 'Children':\n",
    "        tips.append(\"Encourage regular physical activity and a balanced diet.\")\n",
    "    \n",
    "    if row['Hypertension'] == 1:\n",
    "        tips.append(\"Monitor your blood pressure regularly and follow your doctor's recommendations.\")\n",
    "    \n",
    "    if row['Diabetes'] == 1:\n",
    "        tips.append(\"Maintain a healthy diet and closely manage your blood sugar levels.\")\n",
    "    \n",
    "    return '\\n'.join(tips)\n",
    "\n",
    "df['HealthTips'] = df.apply(provide_health_tips, axis=1)\n",
    "\n",
    "# Display personalized reminders and health tips for selected patients\n",
    "sample_patients = df.sample(n=5)  # Select 5 random patients for demonstration\n",
    "\n",
    "for index, row in sample_patients.iterrows():\n",
    "    print(f\"Patient: {row['PatientId']}\")\n",
    "    print(f\"Reminder Date: {row['ReminderDate']}\")\n",
    "    print(f\"Health Tips:\\n{row['HealthTips']}\")\n",
    "    print(\"=\"*50)"
   ]
  },
  {
   "cell_type": "markdown",
   "id": "833c59ed",
   "metadata": {},
   "source": [
    "## Interactive QnA System "
   ]
  },
  {
   "cell_type": "markdown",
   "id": "3d43a410",
   "metadata": {},
   "source": [
    "We've implemented a simple function answer_patient_questions that provides responses to patient questions based on certain keywords. In a real-world scenario, you would integrate more advanced natural language processing to handle a wider range of questions."
   ]
  },
  {
   "cell_type": "code",
   "execution_count": null,
   "id": "c20dc256",
   "metadata": {},
   "outputs": [],
   "source": [
    "# Interactive Q&A System\n",
    "def answer_patient_questions(question):\n",
    "    # Placeholder logic for answering patient questions\n",
    "    if \"symptoms\" in question.lower():\n",
    "        return \"If you're experiencing severe symptoms, please consult a medical professional immediately.\"\n",
    "    elif \"medication\" in question.lower():\n",
    "        return \"Please follow your doctor's prescription and take the medication as directed.\"\n",
    "    else:\n",
    "        return \"I recommend discussing this with your healthcare provider for accurate guidance.\"\n",
    "\n",
    "# Simulating patient questions\n",
    "sample_questions = [\n",
    "    \"What should I do if I experience symptoms?\",\n",
    "    \"How should I take my medication?\",\n",
    "    \"Can you tell me more about my medical condition?\"\n",
    "]\n",
    "\n",
    "for question in sample_questions:\n",
    "    answer = answer_patient_questions(question)\n",
    "    print(f\"Patient Question: {question}\")\n",
    "    print(f\"Assistant Answer: {answer}\")\n",
    "    print(\"=\"*50)"
   ]
  },
  {
   "cell_type": "markdown",
   "id": "161a4956",
   "metadata": {},
   "source": [
    "## Insights based on Appointment history"
   ]
  },
  {
   "cell_type": "markdown",
   "id": "a58453a4",
   "metadata": {},
   "source": [
    "We've created a function provide_insights that calculates and displays insights for each patient based on their appointment history. This can help patients understand their attendance patterns and adherence to appointments."
   ]
  },
  {
   "cell_type": "code",
   "execution_count": null,
   "id": "6ff357b1",
   "metadata": {},
   "outputs": [],
   "source": [
    "# Providing Insights based on Appointment History\n",
    "def provide_insights(patient_id):\n",
    "    patient_df = df[df['PatientId'] == patient_id]\n",
    "    total_appointments = len(patient_df)\n",
    "    no_show_count = patient_df['No_show'].apply(lambda x: 1 if x == 'Yes' else 0).sum()  # Convert to 1 or 0\n",
    "    show_count = total_appointments - no_show_count\n",
    "    \n",
    "    insights = f\"Patient Insights:\\n\"\n",
    "    insights += f\"Total Appointments: {total_appointments}\\n\"\n",
    "    insights += f\"Appointments Attended: {show_count}\\n\"\n",
    "    insights += f\"Appointments Missed: {no_show_count}\\n\"\n",
    "    insights += f\"Show-up Rate: {show_count/total_appointments:.2%}\\n\"\n",
    "    \n",
    "    return insights\n",
    "\n",
    "# Display insights for selected patients\n",
    "sample_patients = df['PatientId'].sample(n=3).unique()  # Select 3 random patients for demonstration\n",
    "\n",
    "for patient_id in sample_patients:\n",
    "    insights = provide_insights(patient_id)\n",
    "    print(f\"Patient ID: {patient_id}\")\n",
    "    print(insights)\n",
    "    print(\"=\"*50)"
   ]
  },
  {
   "cell_type": "code",
   "execution_count": null,
   "id": "efb61a51",
   "metadata": {},
   "outputs": [],
   "source": []
  }
 ],
 "metadata": {
  "kernelspec": {
   "display_name": "Python 3 (ipykernel)",
   "language": "python",
   "name": "python3"
  },
  "language_info": {
   "codemirror_mode": {
    "name": "ipython",
    "version": 3
   },
   "file_extension": ".py",
   "mimetype": "text/x-python",
   "name": "python",
   "nbconvert_exporter": "python",
   "pygments_lexer": "ipython3",
   "version": "3.9.13"
  }
 },
 "nbformat": 4,
 "nbformat_minor": 5
}
